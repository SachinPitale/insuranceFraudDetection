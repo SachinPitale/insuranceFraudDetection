{
 "cells": [
  {
   "cell_type": "code",
   "execution_count": 1,
   "id": "9b8ab578",
   "metadata": {},
   "outputs": [],
   "source": [
    "import os"
   ]
  },
  {
   "cell_type": "code",
   "execution_count": 23,
   "id": "128638fb",
   "metadata": {},
   "outputs": [],
   "source": [
    "list_of_files = os.listdir('models/')"
   ]
  },
  {
   "cell_type": "code",
   "execution_count": 15,
   "id": "3e4658df",
   "metadata": {},
   "outputs": [],
   "source": [
    "cluster_number = str(1)"
   ]
  },
  {
   "cell_type": "code",
   "execution_count": 22,
   "id": "90c4f6bc",
   "metadata": {},
   "outputs": [
    {
     "name": "stdout",
     "output_type": "stream",
     "text": [
      "<built-in method index of str object at 0x0000022E3290FDB0>\n",
      "<built-in method index of str object at 0x0000022E3290FE30>\n",
      "<built-in method index of str object at 0x0000022E3290FE70>\n"
     ]
    }
   ],
   "source": [
    "for file in list_of_files:\n",
    "    print(file.index)"
   ]
  },
  {
   "cell_type": "code",
   "execution_count": 10,
   "id": "681b5134",
   "metadata": {},
   "outputs": [
    {
     "data": {
      "text/plain": [
       "['KMeans', 'SVM0', 'XGBoost1']"
      ]
     },
     "execution_count": 10,
     "metadata": {},
     "output_type": "execute_result"
    }
   ],
   "source": [
    "                    if (self.file.index(str( self.cluster_number))!=-1):\n",
    "                        self.model_name=self.file"
   ]
  },
  {
   "cell_type": "code",
   "execution_count": 24,
   "id": "245ede53",
   "metadata": {},
   "outputs": [
    {
     "data": {
      "text/plain": [
       "['KMeans', 'SVM0', 'XGBoost1']"
      ]
     },
     "execution_count": 24,
     "metadata": {},
     "output_type": "execute_result"
    }
   ],
   "source": [
    "list_of_files"
   ]
  },
  {
   "cell_type": "code",
   "execution_count": null,
   "id": "47afda6a",
   "metadata": {},
   "outputs": [],
   "source": []
  }
 ],
 "metadata": {
  "kernelspec": {
   "display_name": "Python 3 (ipykernel)",
   "language": "python",
   "name": "python3"
  },
  "language_info": {
   "codemirror_mode": {
    "name": "ipython",
    "version": 3
   },
   "file_extension": ".py",
   "mimetype": "text/x-python",
   "name": "python",
   "nbconvert_exporter": "python",
   "pygments_lexer": "ipython3",
   "version": "3.7.13"
  }
 },
 "nbformat": 4,
 "nbformat_minor": 5
}
